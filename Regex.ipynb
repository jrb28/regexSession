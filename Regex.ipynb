{
 "cells": [
  {
   "cell_type": "markdown",
   "metadata": {},
   "source": [
    "Demonstrates re.search(), which finds the first occurence of pattern, if one exists."
   ]
  },
  {
   "cell_type": "code",
   "execution_count": 51,
   "metadata": {
    "collapsed": false
   },
   "outputs": [
    {
     "name": "stdout",
     "output_type": "stream",
     "text": [
      "['Welcome to RegExr v2.1 by gskinner.com, proudly hosted by Media Temple!\\n', '\\n', 'Edit the Expression & Text to see matches. Roll over matches or the expression for details. Undo mistakes with ctrl-z. Save Favorites & Share expressions with friends or the Community. Explore your results with Tools. A full Reference & Help is available in the Library, or watch the video Tutorial.\\n', '\\n', 'Sample text for testing:\\n', 'abcdefghijklmnopqrstuvwxyz ABCDEFGHIJKLMNOPQRSTUVWXYZ\\n', '0123456789 _+-.,!@#$%^&*();\\\\/|<>\"\\'\\n', '12345 -98.7 3.141 .6180 9,000 +42\\n', '555.123.4567\\t+1-(800)-555-2468\\n', 'foo@demo.net\\tbar.ba@test.co.uk\\n', 'www.demo.com\\thttp://foo.co.uk/\\n', 'http://regexr.com/foo.html?q=bar\\n', 'https://mediatemple.net']\n",
      "<_sre.SRE_Match object at 0x00000000043266B0>    --indicates a match--     Welcome 0 7 (0, 7)\n",
      "None\n",
      "None\n",
      "None\n",
      "None\n",
      "None\n",
      "None\n",
      "None\n",
      "None\n",
      "None\n",
      "None\n",
      "None\n",
      "None\n"
     ]
    }
   ],
   "source": [
    "import re    # import the Python Regex package\n",
    "filePath = 'D:/TeachingMaterials/BusinessAnalytics/Programming/Python/BootCamp/2017/PythonBootCamp/data/fromRegexrDotCom.txt'\n",
    "regexr = open(filePath,'r')\n",
    "regexrTxt = regexr.readlines()\n",
    "print regexrTxt\n",
    "for line in regexrTxt:\n",
    "    thisMatch =  re.search('Welcome',line)\n",
    "    if  thisMatch is None:\n",
    "        print thisMatch\n",
    "    else:\n",
    "        print thisMatch, \"   --indicates a match--    \", thisMatch.group(), thisMatch.start(), thisMatch.end(), thisMatch.span()\n",
    "regexr.close()"
   ]
  },
  {
   "cell_type": "markdown",
   "metadata": {},
   "source": [
    "Demonstrates re.finditer()"
   ]
  },
  {
   "cell_type": "code",
   "execution_count": 5,
   "metadata": {
    "collapsed": false
   },
   "outputs": [
    {
     "name": "stdout",
     "output_type": "stream",
     "text": [
      "['Welcome to RegExr v2.1 by gskinner.com, proudly hosted by Media Temple!\\n', '\\n', 'Edit the Expression & Text to see matches. Roll over matches or the expression for details. Undo mistakes with ctrl-z. Save Favorites & Share expressions with friends or the Community. Explore your results with Tools. A full Reference & Help is available in the Library, or watch the video Tutorial.\\n', '\\n', 'Sample text for testing:\\n', 'abcdefghijklmnopqrstuvwxyz ABCDEFGHIJKLMNOPQRSTUVWXYZ\\n', '0123456789 _+-.,!@#$%^&*();\\\\/|<>\"\\'\\n', '12345 -98.7 3.141 .6180 9,000 +42\\n', '555.123.4567\\t+1-(800)-555-2468\\n', 'foo@demo.net\\tbar.ba@test.co.uk\\n', 'www.demo.com\\thttp://foo.co.uk/\\n', 'http://regexr.com/foo.html?q=bar\\n', 'https://mediatemple.net'] \n",
      "\n",
      "<_sre.SRE_Match object at 0x0000000003CF7D30> 012\n",
      "<_sre.SRE_Match object at 0x0000000003CF7E00> 345\n",
      "<_sre.SRE_Match object at 0x0000000003CF7D30> 678\n",
      "<_sre.SRE_Match object at 0x0000000003CF7E00> 123\n",
      "<_sre.SRE_Match object at 0x0000000003CF7D30> 141\n",
      "<_sre.SRE_Match object at 0x0000000003CF7E00> 618\n",
      "<_sre.SRE_Match object at 0x0000000003CF7D30> 000\n",
      "<_sre.SRE_Match object at 0x0000000003CF7E00> 555\n",
      "<_sre.SRE_Match object at 0x0000000003CF7D30> 123\n",
      "<_sre.SRE_Match object at 0x0000000003CF7E00> 456\n",
      "<_sre.SRE_Match object at 0x0000000003CF7D30> 800\n",
      "<_sre.SRE_Match object at 0x0000000003CF7E00> 555\n",
      "<_sre.SRE_Match object at 0x0000000003CF7D30> 246\n"
     ]
    }
   ],
   "source": [
    "import re    # import the Python Regex package\n",
    "filePath = 'D:/TeachingMaterials/BusinessAnalytics/Programming/Python/BootCamp/2017/PythonBootCamp/data/fromRegexrDotCom.txt'\n",
    "regexr = open(filePath,'r')\n",
    "regexrTxt = regexr.readlines()\n",
    "print regexrTxt, '\\n'\n",
    "for line in regexrTxt:\n",
    "    for thisMatch in re.finditer('[0-9]{3}',line):\n",
    "        if thisMatch:\n",
    "            print thisMatch,thisMatch.group()\n",
    "regexr.close()"
   ]
  },
  {
   "cell_type": "markdown",
   "metadata": {},
   "source": [
    "Demonstrates re.sub()"
   ]
  },
  {
   "cell_type": "code",
   "execution_count": 42,
   "metadata": {
    "collapsed": false
   },
   "outputs": [
    {
     "name": "stdout",
     "output_type": "stream",
     "text": [
      "Well, hello there!!! to RegExr v2.1 by gskinner.com, proudly hosted by Media Temple!\n",
      "\n",
      "\n",
      "\n",
      "Edit the Expression & Text to see matches. Roll over matches or the expression for details. Undo mistakes with ctrl-z. Save Favorites & Share expressions with friends or the Community. Explore your results with Tools. A full Reference & Help is available in the Library, or watch the video Tutorial.\n",
      "\n",
      "\n",
      "\n",
      "Sample text for testing:\n",
      "\n",
      "abcdefghijklmnopqrstuvwxyz ABCDEFGHIJKLMNOPQRSTUVWXYZ\n",
      "\n",
      "0123456789 _+-.,!@#$%^&*();\\/|<>\"'\n",
      "\n",
      "12345 -98.7 3.141 .6180 9,000 +42\n",
      "\n",
      "555.123.4567\t+1-(800)-555-2468\n",
      "\n",
      "foo@demo.net\tbar.ba@test.co.uk\n",
      "\n",
      "www.demo.com\thttp://foo.co.uk/\n",
      "\n",
      "http://regexr.com/foo.html?q=bar\n",
      "\n",
      "https://mediatemple.net\n"
     ]
    }
   ],
   "source": [
    "import re    # import the Python Regex package\n",
    "filePath = 'D:/TeachingMaterials/BusinessAnalytics/Programming/Python/BootCamp/2017/PythonBootCamp/data/fromRegexrDotCom.txt'\n",
    "regexr = open(filePath,'r')\n",
    "regexrTxt = regexr.readlines()\n",
    "for line in regexrTxt:\n",
    "    newLine = re.sub('Welcome','Well, hello there!!!',line)\n",
    "    print newLine\n",
    "regexr.close()"
   ]
  },
  {
   "cell_type": "markdown",
   "metadata": {},
   "source": [
    "Demonstrates re.split() and re.compile()"
   ]
  },
  {
   "cell_type": "code",
   "execution_count": 4,
   "metadata": {
    "collapsed": false
   },
   "outputs": [
    {
     "name": "stdout",
     "output_type": "stream",
     "text": [
      "['Welcome to RegExr v2.1 by gskinner.com, proudly hosted by Media Temple!', '', 'Edit the Expression & Text to see matches. Roll over matches or the expression for details. Undo mistakes with ctrl-z. Save Favorites & Share expressions with friends or the Community. Explore your results with Tools. A full Reference & Help is available in the Library, or watch the video Tutorial.', '', 'Sample text for testing:', 'abcdefghijklmnopqrstuvwxyz ABCDEFGHIJKLMNOPQRSTUVWXYZ', '0123456789 _+-.,!@#$%^&*();\\\\/|<>\"\\'', '12345 -98.7 3.141 .6180 9,000 +42', '555.123.4567\\t+1-(800)-555-2468', 'foo@demo.net\\tbar.ba@test.co.uk', 'www.demo.com\\thttp://foo.co.uk/', 'http://regexr.com/foo.html?q=bar', 'https://mediatemple.net'] \n",
      "\n",
      "\n",
      "\n",
      "<_sre.SRE_Match object at 0x0000000003C2F780>    --indicates a match--     2 19 20 (19, 20)\n",
      "None\n",
      "None\n",
      "None\n",
      "None\n",
      "None\n",
      "<_sre.SRE_Match object at 0x0000000003C2F780>    --indicates a match--     0123456789 0 10 (0, 10)\n",
      "<_sre.SRE_Match object at 0x0000000003C2F988>    --indicates a match--     12345 0 5 (0, 5)\n",
      "<_sre.SRE_Match object at 0x0000000003C2F780>    --indicates a match--     555 0 3 (0, 3)\n",
      "None\n",
      "None\n",
      "None\n",
      "None\n"
     ]
    }
   ],
   "source": [
    "import re    # import the Python Regex package\n",
    "filePath = 'D:/TeachingMaterials/BusinessAnalytics/Programming/Python/BootCamp/2017/PythonBootCamp/data/fromRegexrDotCom.txt'\n",
    "regexr = open(filePath,'r')\n",
    "regexrTxt = regexr.read()\n",
    "regexrTxt = re.split('\\n',regexrTxt)\n",
    "print regexrTxt, '\\n\\n\\n'\n",
    "\n",
    "myRe = re.compile('\\d+')\n",
    "for line in regexrTxt:\n",
    "    thisMatch =  myRe.search(line)\n",
    "    if  thisMatch is None:\n",
    "        print thisMatch\n",
    "    else:\n",
    "        print thisMatch, \"   --indicates a match--    \", thisMatch.group(), thisMatch.start(), thisMatch.end(), thisMatch.span()\n",
    "regexr.close()"
   ]
  },
  {
   "cell_type": "markdown",
   "metadata": {},
   "source": [
    "Demonstrates the use of flags and multiline mode"
   ]
  },
  {
   "cell_type": "code",
   "execution_count": 5,
   "metadata": {
    "collapsed": false
   },
   "outputs": [
    {
     "name": "stdout",
     "output_type": "stream",
     "text": [
      "Welcome to RegExr v2.1 by gskinner.com, proudly hosted by Media Temple!\n",
      "\n",
      "Edit the Expression & Text to see matches. Roll over matches or the expression for details. Undo mistakes with ctrl-z. Save Favorites & Share expressions with friends or the Community. Explore your results with Tools. A full Reference & Help is available in the Library, or watch the video Tutorial.\n",
      "\n",
      "Sample text for testing:\n",
      "abcdefghijklmnopqrstuvwxyz ABCDEFGHIJKLMNOPQRSTUVWXYZ\n",
      "0123456789 _+-.,!@#$%^&*();\\/|<>\"'\n",
      "12345 -98.7 3.141 .6180 9,000 +42\n",
      "555.123.4567\t+1-(800)-555-2468\n",
      "foo@demo.net\tbar.ba@test.co.uk\n",
      "www.demo.com\thttp://foo.co.uk/\n",
      "http://regexr.com/foo.html?q=bar\n",
      "https://mediatemple.net \n",
      "END OF TEXT\n",
      "\n",
      "\n",
      "\n",
      "<_sre.SRE_Match object at 0x0000000003C2F7E8> Text 95 99 (95, 99)\n",
      "<_sre.SRE_Match object at 0x0000000003C2F780> text 381 385 (381, 385)\n"
     ]
    }
   ],
   "source": [
    "import re    # import the Python Regex package\n",
    "filePath = 'D:/TeachingMaterials/BusinessAnalytics/Programming/Python/BootCamp/2017/PythonBootCamp/data/fromRegexrDotCom.txt'\n",
    "regexr = open(filePath,'r')\n",
    "regexrTxt = regexr.read()\n",
    "print regexrTxt, '\\nEND OF TEXT\\n', '\\n\\n'\n",
    "for thisMatch in re.finditer('text',regexrTxt, flags = re.IGNORECASE | re.MULTILINE):\n",
    "    print thisMatch, thisMatch.group(), thisMatch.start(), thisMatch.end(), thisMatch.span()\n",
    "regexr.close()"
   ]
  },
  {
   "cell_type": "code",
   "execution_count": 1,
   "metadata": {
    "collapsed": false
   },
   "outputs": [
    {
     "name": "stdout",
     "output_type": "stream",
     "text": [
      "numRecords: 0\n"
     ]
    }
   ],
   "source": [
    "import re    # import the Python Regex package\n",
    "emailFilePath = 'D:/TeachingMaterials/BusinessAnalytics/Programming/Python/BootCamp/2017/PythonBootCamp/data/hillary-clinton-emails-august-31-release_djvu.txt'\n",
    "email = open(emailFilePath,'r')\n",
    "results = {}\n",
    "\n",
    "# put your code here to detect email addresses using Regex\n",
    "# use the email addresses for the dictionary keys and a count of the number of observations as the values\n",
    "\n",
    "email.close()\n",
    "print 'numRecords:', len(results)\n",
    "\n",
    "# put the results dictionary data into a list of lists or list of tuples and sort in descending order by\n",
    "# the email address frequency, then print the top 10 most frequently occuring wmail addresses"
   ]
  },
  {
   "cell_type": "markdown",
   "metadata": {},
   "source": [
    "You can use the cell below as a prototyping enviroment using the regexr.com text."
   ]
  },
  {
   "cell_type": "code",
   "execution_count": 4,
   "metadata": {
    "collapsed": false
   },
   "outputs": [],
   "source": [
    "import re    # import the Python Regex package\n",
    "filePath = 'D:/TeachingMaterials/BusinessAnalytics/Programming/Python/BootCamp/2017/PythonBootCamp/data/fromRegexrDotCom.txt'\n",
    "regexr = open(filePath,'r')\n",
    "for line in regexr.readlines():\n",
    "    for thisMatch in re.finditer('put your Regex here',line):\n",
    "        if  thisMatch:\n",
    "            print \"   --indicates a match--    \", thisMatch.group(), thisMatch.start(), thisMatch.end(), thisMatch.span()\n",
    "regexr.close()"
   ]
  },
  {
   "cell_type": "code",
   "execution_count": null,
   "metadata": {
    "collapsed": true
   },
   "outputs": [],
   "source": []
  }
 ],
 "metadata": {
  "kernelspec": {
   "display_name": "Python 2",
   "language": "python",
   "name": "python2"
  },
  "language_info": {
   "codemirror_mode": {
    "name": "ipython",
    "version": 2
   },
   "file_extension": ".py",
   "mimetype": "text/x-python",
   "name": "python",
   "nbconvert_exporter": "python",
   "pygments_lexer": "ipython2",
   "version": "2.7.13"
  }
 },
 "nbformat": 4,
 "nbformat_minor": 0
}
